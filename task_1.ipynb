{
 "cells": [
  {
   "cell_type": "markdown",
   "id": "c8691035",
   "metadata": {},
   "source": [
    "# Author: Soumarya Basak\n",
    "# Task 1 :<font color='red'> Prediction using Superviser Machine Learning </font> \n"
   ]
  },
  {
   "cell_type": "markdown",
   "id": "53739d51",
   "metadata": {},
   "source": [
    "To perform a Supervised machine learning algorithm here we will amke use of a python library named Scikit-Learn."
   ]
  },
  {
   "cell_type": "markdown",
   "id": "c21912a7",
   "metadata": {},
   "source": [
    "For the given data we have to build a model to predict the percentage of the students based on the number of study hours.\\\n",
    "Since, the target variable is a countinuous variable, here we have to perform a Regression analysis for buliding the model. Its a simple linear regression task based on two variables"
   ]
  },
  {
   "cell_type": "markdown",
   "id": "6020af65",
   "metadata": {},
   "source": [
    "## Required libraries: Scikit-Learn, Pandas, Numpy, Matplotlib"
   ]
  },
  {
   "cell_type": "code",
   "execution_count": 93,
   "id": "1a2d8c0f",
   "metadata": {},
   "outputs": [],
   "source": [
    "# import the required libraries\n",
    "import pandas as pd\n",
    "import numpy as np\n",
    "import matplotlib.pyplot as plt\n",
    "%matplotlib inline\n",
    "from sklearn.linear_model import LinearRegression\n",
    "from sklearn.model_selection import train_test_split\n",
    "lreg=LinearRegression()\n"
   ]
  },
  {
   "cell_type": "code",
   "execution_count": 94,
   "id": "89d5ed61",
   "metadata": {},
   "outputs": [],
   "source": [
    "# Lets read the data \n",
    "url='http://bit.ly/w-data'\n",
    "data=pd.read_csv(url)"
   ]
  },
  {
   "cell_type": "code",
   "execution_count": 95,
   "id": "05f27444",
   "metadata": {},
   "outputs": [
    {
     "data": {
      "text/html": [
       "<div>\n",
       "<style scoped>\n",
       "    .dataframe tbody tr th:only-of-type {\n",
       "        vertical-align: middle;\n",
       "    }\n",
       "\n",
       "    .dataframe tbody tr th {\n",
       "        vertical-align: top;\n",
       "    }\n",
       "\n",
       "    .dataframe thead th {\n",
       "        text-align: right;\n",
       "    }\n",
       "</style>\n",
       "<table border=\"1\" class=\"dataframe\">\n",
       "  <thead>\n",
       "    <tr style=\"text-align: right;\">\n",
       "      <th></th>\n",
       "      <th>Hours</th>\n",
       "      <th>Scores</th>\n",
       "    </tr>\n",
       "  </thead>\n",
       "  <tbody>\n",
       "    <tr>\n",
       "      <th>0</th>\n",
       "      <td>2.5</td>\n",
       "      <td>21</td>\n",
       "    </tr>\n",
       "    <tr>\n",
       "      <th>1</th>\n",
       "      <td>5.1</td>\n",
       "      <td>47</td>\n",
       "    </tr>\n",
       "    <tr>\n",
       "      <th>2</th>\n",
       "      <td>3.2</td>\n",
       "      <td>27</td>\n",
       "    </tr>\n",
       "    <tr>\n",
       "      <th>3</th>\n",
       "      <td>8.5</td>\n",
       "      <td>75</td>\n",
       "    </tr>\n",
       "    <tr>\n",
       "      <th>4</th>\n",
       "      <td>3.5</td>\n",
       "      <td>30</td>\n",
       "    </tr>\n",
       "  </tbody>\n",
       "</table>\n",
       "</div>"
      ],
      "text/plain": [
       "   Hours  Scores\n",
       "0    2.5      21\n",
       "1    5.1      47\n",
       "2    3.2      27\n",
       "3    8.5      75\n",
       "4    3.5      30"
      ]
     },
     "execution_count": 95,
     "metadata": {},
     "output_type": "execute_result"
    }
   ],
   "source": [
    "data.head()   # showing first 5 rows of the data"
   ]
  },
  {
   "cell_type": "code",
   "execution_count": 96,
   "id": "7f22a926",
   "metadata": {},
   "outputs": [
    {
     "data": {
      "text/plain": [
       "(25, 2)"
      ]
     },
     "execution_count": 96,
     "metadata": {},
     "output_type": "execute_result"
    }
   ],
   "source": [
    "data.shape"
   ]
  },
  {
   "cell_type": "markdown",
   "id": "45d902aa",
   "metadata": {},
   "source": [
    "So, the data has 25 observations of two variables Hours and Scores."
   ]
  },
  {
   "cell_type": "markdown",
   "id": "04c1c6e4",
   "metadata": {},
   "source": [
    "Lets see how the two variables are related by ploting a scatter plot of the variables."
   ]
  },
  {
   "cell_type": "code",
   "execution_count": 97,
   "id": "14bd1acd",
   "metadata": {},
   "outputs": [
    {
     "data": {
      "image/png": "[encoded data removed]",
      "text/plain": [
       "<Figure size 432x288 with 1 Axes>"
      ]
     },
     "metadata": {
      "needs_background": "light"
     },
     "output_type": "display_data"
    }
   ],
   "source": [
    "# scatter plot of the variables\n",
    "data.plot.scatter('Hours','Scores')\n",
    "plt.title('Scatter Plot of Houes vs Scores')\n",
    "plt.show()"
   ]
  },
  {
   "cell_type": "markdown",
   "id": "45e66b62",
   "metadata": {},
   "source": [
    "From the scatter plot of these two variables we can see that there is a stronge linear relationship between two variables.\n"
   ]
  },
  {
   "cell_type": "markdown",
   "id": "25aa8c96",
   "metadata": {},
   "source": [
    "## Preparing Data\n",
    "Now we will divide the data into two part namely \"attribute\"(input) and \"labels\"(output)"
   ]
  },
  {
   "cell_type": "code",
   "execution_count": 98,
   "id": "f5eecc14",
   "metadata": {},
   "outputs": [],
   "source": [
    "X = data.iloc[:, :-1].values  \n",
    "y = data.iloc[:, 1].values  "
   ]
  },
  {
   "cell_type": "markdown",
   "id": "649b38da",
   "metadata": {},
   "source": [
    "### Spliting the data in train and test part\n",
    " Now, we will split the data set into train and test data set by train_test_split() method from the Scikit-Leran library. Here we would choose the 80% of the data as training part and rest 20% for testing part.\n",
    " "
   ]
  },
  {
   "cell_type": "code",
   "execution_count": 99,
   "id": "eb9caa51",
   "metadata": {},
   "outputs": [],
   "source": [
    "x_train,x_test,y_train,y_test= train_test_split(x,y,test_size=0.2, random_state=100)"
   ]
  },
  {
   "cell_type": "markdown",
   "id": "72264952",
   "metadata": {},
   "source": [
    "## Fitting the Regression model"
   ]
  },
  {
   "cell_type": "markdown",
   "id": "4f5f290e",
   "metadata": {},
   "source": [
    "For fitting the regression model we will use the fit function from LinearRegression module"
   ]
  },
  {
   "cell_type": "code",
   "execution_count": 100,
   "id": "a1d006d5",
   "metadata": {},
   "outputs": [
    {
     "name": "stdout",
     "output_type": "stream",
     "text": [
      "Fitting is complete\n"
     ]
    }
   ],
   "source": [
    "lreg.fit(x_train, y_train)\n",
    "print('Fitting is complete')"
   ]
  },
  {
   "cell_type": "code",
   "execution_count": 101,
   "id": "f215d17f",
   "metadata": {},
   "outputs": [
    {
     "data": {
      "text/plain": [
       "array([9.83544438])"
      ]
     },
     "execution_count": 101,
     "metadata": {},
     "output_type": "execute_result"
    }
   ],
   "source": [
    "lreg.coef_"
   ]
  },
  {
   "cell_type": "code",
   "execution_count": 102,
   "id": "7866ff13",
   "metadata": {},
   "outputs": [
    {
     "data": {
      "text/plain": [
       "1.989423110974684"
      ]
     },
     "execution_count": 102,
     "metadata": {},
     "output_type": "execute_result"
    }
   ],
   "source": [
    "lreg.intercept_"
   ]
  },
  {
   "cell_type": "code",
   "execution_count": 103,
   "id": "c3ba3155",
   "metadata": {},
   "outputs": [
    {
     "data": {
      "image/png": "[encoded data removed]",
      "text/plain": [
       "<Figure size 432x288 with 1 Axes>"
      ]
     },
     "metadata": {
      "needs_background": "light"
     },
     "output_type": "display_data"
    }
   ],
   "source": [
    "# Plot the regression line\n",
    "Y=lreg.coef_*x +lreg.intercept_\n",
    "plt.scatter(x,y)\n",
    "plt.plot(x,Y, color='red')\n",
    "plt.show()"
   ]
  },
  {
   "cell_type": "markdown",
   "id": "4cb4d602",
   "metadata": {},
   "source": [
    "## Making Prediction"
   ]
  },
  {
   "cell_type": "markdown",
   "id": "5ec79ec9",
   "metadata": {},
   "source": [
    "We have trained our model and its time to use the model for prediction.\n",
    "Here we will use the test data set for making the prediction based on the model we have build.\n"
   ]
  },
  {
   "cell_type": "code",
   "execution_count": 104,
   "id": "769741da",
   "metadata": {},
   "outputs": [
    {
     "name": "stdout",
     "output_type": "stream",
     "text": [
      "[[2.7]\n",
      " [3.8]\n",
      " [3.3]\n",
      " [5.9]\n",
      " [1.5]]\n"
     ]
    }
   ],
   "source": [
    "# Lets print the test data in hours\n",
    "print(x_test)"
   ]
  },
  {
   "cell_type": "code",
   "execution_count": 105,
   "id": "696a25e6",
   "metadata": {},
   "outputs": [
    {
     "name": "stdout",
     "output_type": "stream",
     "text": [
      "Prediction is complete\n"
     ]
    }
   ],
   "source": [
    "# predict the scores for the given study hours\n",
    "y_pred=lreg.predict(x_test)\n",
    "print(\"Prediction is complete\")"
   ]
  },
  {
   "cell_type": "markdown",
   "id": "6611a2f7",
   "metadata": {},
   "source": [
    "## Comparing Actual data and Prediction"
   ]
  },
  {
   "cell_type": "code",
   "execution_count": 106,
   "id": "e0be644e",
   "metadata": {},
   "outputs": [
    {
     "data": {
      "text/html": [
       "<div>\n",
       "<style scoped>\n",
       "    .dataframe tbody tr th:only-of-type {\n",
       "        vertical-align: middle;\n",
       "    }\n",
       "\n",
       "    .dataframe tbody tr th {\n",
       "        vertical-align: top;\n",
       "    }\n",
       "\n",
       "    .dataframe thead th {\n",
       "        text-align: right;\n",
       "    }\n",
       "</style>\n",
       "<table border=\"1\" class=\"dataframe\">\n",
       "  <thead>\n",
       "    <tr style=\"text-align: right;\">\n",
       "      <th></th>\n",
       "      <th>Actual</th>\n",
       "      <th>Predicted</th>\n",
       "    </tr>\n",
       "  </thead>\n",
       "  <tbody>\n",
       "    <tr>\n",
       "      <th>0</th>\n",
       "      <td>25</td>\n",
       "      <td>28.545123</td>\n",
       "    </tr>\n",
       "    <tr>\n",
       "      <th>1</th>\n",
       "      <td>35</td>\n",
       "      <td>39.364112</td>\n",
       "    </tr>\n",
       "    <tr>\n",
       "      <th>2</th>\n",
       "      <td>42</td>\n",
       "      <td>34.446390</td>\n",
       "    </tr>\n",
       "    <tr>\n",
       "      <th>3</th>\n",
       "      <td>62</td>\n",
       "      <td>60.018545</td>\n",
       "    </tr>\n",
       "    <tr>\n",
       "      <th>4</th>\n",
       "      <td>20</td>\n",
       "      <td>16.742590</td>\n",
       "    </tr>\n",
       "  </tbody>\n",
       "</table>\n",
       "</div>"
      ],
      "text/plain": [
       "   Actual  Predicted\n",
       "0      25  28.545123\n",
       "1      35  39.364112\n",
       "2      42  34.446390\n",
       "3      62  60.018545\n",
       "4      20  16.742590"
      ]
     },
     "execution_count": 106,
     "metadata": {},
     "output_type": "execute_result"
    }
   ],
   "source": [
    "ap= pd.DataFrame({'Actual': y_test.reshape(-1), 'Predicted': y_pred.reshape(-1)})\n",
    "ap"
   ]
  },
  {
   "cell_type": "code",
   "execution_count": 107,
   "id": "c202ee29",
   "metadata": {},
   "outputs": [
    {
     "data": {
      "image/png": "[encoded data removed]",
      "text/plain": [
       "<Figure size 360x360 with 1 Axes>"
      ]
     },
     "metadata": {
      "needs_background": "light"
     },
     "output_type": "display_data"
    }
   ],
   "source": [
    "# creating a bar plot to depict the difference between the Actual and predicted values\n",
    "ap.plot(kind='bar', figsize=[5,5])\n",
    "plt.show()"
   ]
  },
  {
   "cell_type": "code",
   "execution_count": 108,
   "id": "6869e553",
   "metadata": {},
   "outputs": [
    {
     "name": "stdout",
     "output_type": "stream",
     "text": [
      "Training Score: 0.9519568836485192\n",
      "Testing Score: 0.9050356232459791\n"
     ]
    }
   ],
   "source": [
    "# Estimating test score to compare the prediction\n",
    "print(\"Training Score:\", lreg.score(x_train,y_train))\n",
    "print(\"Testing Score:\", lreg.score(x_test,y_test))"
   ]
  },
  {
   "cell_type": "markdown",
   "id": "c0a85b1d",
   "metadata": {},
   "source": [
    "## Testing our own data"
   ]
  },
  {
   "cell_type": "code",
   "execution_count": 116,
   "id": "6937a3a7",
   "metadata": {},
   "outputs": [
    {
     "name": "stdout",
     "output_type": "stream",
     "text": [
      "The score of the student who studies for 9.25 hours/day is: 92.96728365185982\n"
     ]
    }
   ],
   "source": [
    "hour=9.25\n",
    "test=np.array(hour).reshape(-1,1)\n",
    "score=lreg.predict(test)\n",
    "print(\"The score of the student who studies for 9.25 hours/day is:\", score[0])"
   ]
  },
  {
   "cell_type": "markdown",
   "id": "b1fac05b",
   "metadata": {},
   "source": [
    "## Evaluating the model\n",
    "The final step is to evaluate the performance of algorithm. This step is particularly important to compare how well different algorithms perform on a particular dataset. For simplicity here, we have chosen the mean square error. There are many such metrics."
   ]
  },
  {
   "cell_type": "code",
   "execution_count": 119,
   "id": "26e8d472",
   "metadata": {},
   "outputs": [
    {
     "name": "stdout",
     "output_type": "stream",
     "text": [
      "Mean Absolute Error: 4.140342096254413\n",
      "Mean squared Error: 20.64145693125399\n",
      "R^2 value: 0.9050356232459791\n"
     ]
    }
   ],
   "source": [
    "from sklearn import metrics\n",
    "print('Mean Absolute Error:', \n",
    "      metrics.mean_absolute_error(y_test, y_pred))\n",
    "print('Mean squared Error:', \n",
    "      metrics.mean_squared_error(y_test, y_pred)) \n",
    "print(\"R^2 value:\",\n",
    "      metrics.r2_score(y_test,y_pred))\n",
    "\n",
    "\n"
   ]
  },
  {
   "cell_type": "markdown",
   "id": "57ce52ed",
   "metadata": {},
   "source": [
    "<font color='blue'>**we can see that the $R^2$ has a high value which indicates that the model is fitted well**"
   ]
  },
  {
   "cell_type": "markdown",
   "id": "c18d2f01",
   "metadata": {},
   "source": [
    "\n",
    "# conclusion\n",
    "I am successfully able to complete the Predction by the Supervised Machine Learning algorithm . Happy to complete the task."
   ]
  }
 ],
 "metadata": {
  "kernelspec": {
   "display_name": "Python 3",
   "language": "python",
   "name": "python3"
  },
  "language_info": {
   "codemirror_mode": {
    "name": "ipython",
    "version": 3
   },
   "file_extension": ".py",
   "mimetype": "text/x-python",
   "name": "python",
   "nbconvert_exporter": "python",
   "pygments_lexer": "ipython3",
   "version": "3.8.8"
  }
 },
 "nbformat": 4,
 "nbformat_minor": 5
}
